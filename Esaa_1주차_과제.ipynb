{
  "nbformat": 4,
  "nbformat_minor": 0,
  "metadata": {
    "colab": {
      "provenance": [],
      "authorship_tag": "ABX9TyPY/lHTzHLRUMCasG0x0tbC",
      "include_colab_link": true
    },
    "kernelspec": {
      "name": "python3",
      "display_name": "Python 3"
    },
    "language_info": {
      "name": "python"
    }
  },
  "cells": [
    {
      "cell_type": "markdown",
      "metadata": {
        "id": "view-in-github",
        "colab_type": "text"
      },
      "source": [
        "<a href=\"https://colab.research.google.com/github/jiinpark21/ESAA_24-1/blob/main/Esaa_1%EC%A3%BC%EC%B0%A8_%EA%B3%BC%EC%A0%9C.ipynb\" target=\"_parent\"><img src=\"https://colab.research.google.com/assets/colab-badge.svg\" alt=\"Open In Colab\"/></a>"
      ]
    },
    {
      "cell_type": "markdown",
      "source": [
        "1주차 과제: 파이썬 머신러닝 완벽 가이드 p. 1~38 필사\n",
        "\n",
        "# [Chapter 01]  파이썬 기반의 머신러닝과 생태계 이해<br>\n",
        "---\n",
        "<br>\n",
        "\n",
        "> ## 1-1. 머신러닝의 개념\n",
        "\n",
        "  머신러닝이란 애플리케이션을 수정하지 않고도 데이터를 기반으로 패턴을 학습하고 결과를 예측하는 알고리즘 기법을 통칭함\n",
        "\n",
        "\n",
        "\n",
        " - 머신러닝의 분류\n",
        "\n",
        "  - 지도학습 : 분류(Classification), 회귀(Regression)\n",
        "\n",
        "  - 비지도학습 : 클러스터링, 차원 축소, 강화학습\n",
        "\n",
        "  - 강화학습\n",
        "\n",
        "\n",
        " - 데이터 전쟁\n",
        "\n",
        "- 파이썬과 R 기반의 머신러닝 비교\n",
        "\n",
        "<br>\n",
        "\n",
        "---\n",
        "\n",
        "<br>\n",
        "\n",
        "> ## 1-2. 파이썬 머신러닝 생태계를 구성하는 주요 패키지\n",
        "\n",
        "\n",
        "\n",
        "- 파이썬 머신러닝을 위한 S/W 설치\n",
        "\n",
        "\n",
        "\n",
        "---\n",
        "\n",
        "\n",
        "\n",
        "> ## 1-3. 넘파이\n",
        "\n",
        "\n",
        "\n",
        "- 넘파이 ndarray 개요\n",
        "- ndarray의 데이터 타입\n",
        "- ndarray를 편리하게 생성하기 - arange, zeros, ones\n",
        "- ndarray의 차원과 크기를 변경하는 reshape()\n",
        "- 넘파이의 ndarray의 데이터 세트 선택하기 - 인덱싱(Indexing)\n",
        "- 행렬의 정렬 - sort()와 argsort()\n",
        "- 선형대수 연산 - 행렬 내적과 전치 행렬 구하기"
      ],
      "metadata": {
        "id": "sFumjaiRAqeY"
      }
    },
    {
      "cell_type": "markdown",
      "source": [
        "# 새 섹션"
      ],
      "metadata": {
        "id": "rtYrFtB7lH2J"
      }
    },
    {
      "cell_type": "markdown",
      "source": [
        "# 새 섹션"
      ],
      "metadata": {
        "id": "RMgy80aXlI8h"
      }
    },
    {
      "cell_type": "code",
      "source": [],
      "metadata": {
        "id": "Woc9c3DLGfap"
      },
      "execution_count": null,
      "outputs": []
    },
    {
      "cell_type": "markdown",
      "source": [
        "1. 머신러닝의 개념"
      ],
      "metadata": {
        "id": "riostSkaGksT"
      }
    },
    {
      "cell_type": "markdown",
      "source": [],
      "metadata": {
        "id": "-1LEC0d3G7s6"
      }
    }
  ]
}